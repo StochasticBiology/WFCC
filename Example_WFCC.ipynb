{
 "cells": [
  {
   "cell_type": "code",
   "execution_count": 1,
   "id": "58b5da60",
   "metadata": {},
   "outputs": [],
   "source": [
    "from random import seed, random\n",
    "import numpy as np\n",
    "import matplotlib.pyplot as plt\n",
    "import pandas as pd\n",
    "import seaborn as sns\n",
    "from bisect import bisect_left\n",
    "seed(666)"
   ]
  },
  {
   "cell_type": "markdown",
   "id": "30d75d91",
   "metadata": {},
   "source": [
    "# Functions"
   ]
  },
  {
   "cell_type": "markdown",
   "id": "8b5ebfaa",
   "metadata": {},
   "source": [
    "Define a random hypercube of dimension  𝑛 with edges not sorted if bias=0, edges sorted in descending order if bias=1, or edges sorted in ascending order if bias=2."
   ]
  },
  {
   "cell_type": "code",
   "execution_count": 2,
   "id": "1eb91502",
   "metadata": {},
   "outputs": [],
   "source": [
    "def randcube(n,bias=0):\n",
    "    graph = []\n",
    "    for source in range(2**n):\n",
    "        targets = set(range(n)) - set(i for i, digit in enumerate(reversed((bin(source)))) if digit == '1')\n",
    "        randomlist = [random() for i in targets]\n",
    "        weights = [float(k)/sum(randomlist) for k in randomlist]\n",
    "        if bias == 1:\n",
    "            weights.sort(reverse=True) \n",
    "        if bias == 2:\n",
    "            weights.sort(reverse=False) \n",
    "        for i,t in enumerate(targets):\n",
    "            graph.append((source,source+2**t,weights[i]))\n",
    "    return graph"
   ]
  },
  {
   "cell_type": "markdown",
   "id": "31881026",
   "metadata": {},
   "source": [
    "For two given graphs, define the $l_1$-metric of their weightings. We give the argument 'normalized= True' if we want to output the $l_1$-metric value normalized by the number of edges."
   ]
  },
  {
   "cell_type": "code",
   "execution_count": 3,
   "id": "25858b35",
   "metadata": {},
   "outputs": [],
   "source": [
    "def area(g0,g1,normalized=False, sort=False):\n",
    "    if sort:\n",
    "        g0.sort(key=lambda x: (x[0], x[1]))\n",
    "        g1.sort(key=lambda x: (x[0], x[1]))\n",
    "    if normalized:\n",
    "        return sum([abs(w-g1[i][2]) for i,(s,t,w) in enumerate(g0)])/len(g0)\n",
    "    return sum([abs(w-g1[i][2]) for i,(s,t,w) in enumerate(g0)])"
   ]
  },
  {
   "cell_type": "markdown",
   "id": "428227ef",
   "metadata": {},
   "source": [
    "First, define a function that computes the symmetric difference metric for each filtration value, producing a curve. This function takes as inputs two graphs with the same edges and vertices, but different weights on the edges, and outputs the filtration values as an array and the corresponding values of the cardinality of the symmetric difference as a list."
   ]
  },
  {
   "cell_type": "code",
   "execution_count": 4,
   "id": "6a4731be",
   "metadata": {},
   "outputs": [],
   "source": [
    "def compare(g0,g1, resolution = 1000, normalized=False, sort=False):\n",
    "    m = len(g0)\n",
    "    if sort:\n",
    "        g0.sort(key=lambda x: (x[0], x[1]))\n",
    "        g1.sort(key=lambda x: (x[0], x[1]))\n",
    "    merged = [(min(w,g1[i][2]),max(w,g1[i][2])) for i,(s,t,w) in enumerate(g0)]\n",
    "    filt_val = np.linspace(0, max(d for (_,d) in merged), resolution)\n",
    "    sym_card = [0 for _ in range(resolution)]\n",
    "    for p0,p1 in merged:\n",
    "        i = bisect_left(filt_val,p0)\n",
    "        while filt_val[i]<p1:\n",
    "            if filt_val[i]<=p0:\n",
    "                i += 1\n",
    "                continue\n",
    "            if normalized:\n",
    "                sym_card[i] += float(1/m)\n",
    "            if not normalized:\n",
    "                sym_card[i] += 1\n",
    "            i += 1\n",
    "    return (filt_val,sym_card)"
   ]
  },
  {
   "cell_type": "markdown",
   "id": "6ffe658d",
   "metadata": {},
   "source": [
    "Next, we define WFCC as a function that visualises the curve of the symmetric difference metric as a function of the filtration value, from the function 'compare' above. The output is the plot of the curves. For convenience, we also output the areas under the curves from the function 'area' above.\n",
    "\n",
    "The inputs are:\n",
    "- g0: graph to compare againts the others\n",
    "- g1: list of graphs to compare each one against g0\n",
    "- label_g0: name of the graph g0, as a string, for the title of the plot\n",
    "- labels_g1: list of names of the graphs in g1, as strings, for the legend\n",
    "- colors: list of colors, as strings, one for each graph in g1\n",
    "- log: True or False. It returns the plot in logarithmic scale if True"
   ]
  },
  {
   "cell_type": "code",
   "execution_count": 5,
   "id": "2a01aad5",
   "metadata": {},
   "outputs": [],
   "source": [
    "def WFCC(g0, g1, label_g0, labels_g1, colors, log): #g1 is a list of graphs to compare with g0\n",
    "    x=[]\n",
    "    y=[]\n",
    "    for g in g1:\n",
    "        x_val,y_val = compare(g0,g,1000,False)\n",
    "        x.append(x_val)\n",
    "        y.append(y_val)\n",
    "    fig,ax = plt.subplots(figsize=(6,5))\n",
    "    for i in range(0, len(x)):\n",
    "        plt.plot(x[i],y[i], label=labels_g1[i], c=colors[i])\n",
    "    plt.title(label_g0 + \" compared to:\", fontsize=15)\n",
    "    plt.xlabel(\"Filtration value\", fontsize=13)\n",
    "    plt.ylabel(\"Cardinality of symmetric difference\", fontsize=13)\n",
    "    plt.legend(loc='best', fontsize=13)\n",
    "    for label in (ax.get_xticklabels() + ax.get_yticklabels()):\n",
    "        label.set_fontsize(13)\n",
    "    if log==True:\n",
    "        plt.yscale('log')\n",
    "    plt.savefig('./Data_files_hypercubes/Outputs_github/'+label_g0+'_vs.png')\n",
    "    plt.show()\n",
    "    for i in range(0, len(x)):\n",
    "        print(\"The area under the curve for \"+label_g0+\" vs \"+labels_g1[i]+\" is: \", area(g0,g1[i]))"
   ]
  },
  {
   "cell_type": "markdown",
   "id": "1eb103c5",
   "metadata": {},
   "source": [
    "# Example"
   ]
  },
  {
   "cell_type": "code",
   "execution_count": 6,
   "id": "8bfbb797",
   "metadata": {},
   "outputs": [
    {
     "data": {
      "image/png": "[encoded data removed]",
      "text/plain": [
       "<Figure size 432x360 with 1 Axes>"
      ]
     },
     "metadata": {
      "needs_background": "light"
     },
     "output_type": "display_data"
    },
    {
     "name": "stdout",
     "output_type": "stream",
     "text": [
      "The area under the curve for Top heavy random vs Random is:  647.2378234794922\n",
      "The area under the curve for Top heavy random vs Top heavy random is:  284.05277046514584\n",
      "The area under the curve for Top heavy random vs Bottom heavy random is:  897.2783595966262\n"
     ]
    }
   ],
   "source": [
    "#dimnesion of the hypercube n\n",
    "n=10\n",
    "\n",
    "#define the random hypercubes to compare\n",
    "g0 = randcube(n,bias = 1)\n",
    "g1 = randcube(n,bias = 0)\n",
    "g2 = randcube(n,bias = 1)\n",
    "g3 = randcube(n,bias = 2)\n",
    "\n",
    "#group together the hypercubes to compare with hypercube g0\n",
    "g1=[g1,g2,g3]\n",
    "\n",
    "#define labels and colours\n",
    "label_g0='Top heavy random'\n",
    "labels_g1=['Random', 'Top heavy random', 'Bottom heavy random']\n",
    "colors=['red', 'blue', 'green']\n",
    "\n",
    "#call the algorithm WFCC\n",
    "WFCC(g0, g1, label_g0, labels_g1, colors, log=False)"
   ]
  }
 ],
 "metadata": {
  "kernelspec": {
   "display_name": "Python 3 (ipykernel)",
   "language": "python",
   "name": "python3"
  },
  "language_info": {
   "codemirror_mode": {
    "name": "ipython",
    "version": 3
   },
   "file_extension": ".py",
   "mimetype": "text/x-python",
   "name": "python",
   "nbconvert_exporter": "python",
   "pygments_lexer": "ipython3",
   "version": "3.9.12"
  }
 },
 "nbformat": 4,
 "nbformat_minor": 5
}
